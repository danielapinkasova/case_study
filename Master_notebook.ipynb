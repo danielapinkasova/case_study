{
 "cells": [
  {
   "cell_type": "code",
   "execution_count": null,
   "metadata": {},
   "outputs": [],
   "source": [
    "# Master jupyter notebook for Case Study"
   ]
  },
  {
   "cell_type": "code",
   "execution_count": 2,
   "metadata": {},
   "outputs": [],
   "source": [
    "# importing libraries\n",
    "import pandas as pd\n",
    "import sqlite3"
   ]
  },
  {
   "cell_type": "code",
   "execution_count": 9,
   "metadata": {},
   "outputs": [
    {
     "name": "stdout",
     "output_type": "stream",
     "text": [
      "client_id          int64\n",
      "age              float64\n",
      "job               object\n",
      "marital           object\n",
      "education         object\n",
      "gender            object\n",
      "client_id          int64\n",
      "has_deposits      object\n",
      "loan              object\n",
      "has_insurance     object\n",
      "has_mortgage      object\n",
      "client_id        float64\n",
      "poutcome          object\n",
      "dtype: object\n",
      "client_id           0\n",
      "age               232\n",
      "job               438\n",
      "marital             0\n",
      "education           0\n",
      "gender              0\n",
      "client_id           0\n",
      "has_deposits        0\n",
      "loan                0\n",
      "has_insurance       0\n",
      "has_mortgage        0\n",
      "client_id        8863\n",
      "poutcome         8863\n",
      "dtype: int64\n",
      "date         0\n",
      "balance      0\n",
      "client_id    0\n",
      "currency     0\n",
      "dtype: int64\n"
     ]
    }
   ],
   "source": [
    "# Extracting tables from database\n",
    "def list_tables(database_file):\n",
    "    connection = sqlite3.connect('data.db')\n",
    "    cursor = connection.cursor()\n",
    "    cursor.execute(\"\"\"select name from sqlite_master where type = 'table';\n",
    "                    \"\"\")\n",
    "                    \n",
    "    tables = cursor.fetchall()\n",
    "    cursor.close()\n",
    "    connection.close()\n",
    "    table_names = [table[0] for table in tables]\n",
    "    return table_names\n",
    "\n",
    "# Saving tables as dataframes\n",
    "connection = sqlite3.connect('data.db')\n",
    "query = \"\"\"select *\n",
    "        from client as cl;\n",
    "        \"\"\"\n",
    "client = pd.read_sql_query(query, connection)\n",
    "connection.close\n",
    "\n",
    "connection = sqlite3.connect('data.db')\n",
    "query = \"\"\"select *\n",
    "        from client_products as cl;\n",
    "        \"\"\"\n",
    "client_products = pd.read_sql_query(query, connection)\n",
    "connection.close\n",
    "\n",
    "connection = sqlite3.connect('data.db')\n",
    "query = \"\"\"select *\n",
    "        from balances as cl;\n",
    "        \"\"\"\n",
    "balances = pd.read_sql_query(query, connection)\n",
    "connection.close\n",
    "\n",
    "connection = sqlite3.connect('data.db')\n",
    "query = \"\"\"select *\n",
    "        from inv_campaign_eval as cl;\n",
    "        \"\"\"\n",
    "inv_campaign_eval = pd.read_sql_query(query, connection)\n",
    "connection.close\n",
    "\n",
    "# creating one large table with client data (excluding balances table)\n",
    "connection = sqlite3.connect('data.db')\n",
    "query = \"\"\"\n",
    "        select *\n",
    "        from client as cl\n",
    "        left join client_products as cp on cl.client_id = cp.client_id\n",
    "        --left join balances as ba on cl.client_id = ba.client_id\n",
    "        left join inv_campaign_eval as camp on cl.client_id = camp.client_id;\n",
    "        \"\"\"\n",
    "clients_merged = pd.read_sql_query(query, connection)\n",
    "connection.close\n",
    "\n",
    "# checking for datatypes\n",
    "print(clients_merged.dtypes)\n",
    "\n",
    "# checking for missing values\n",
    "print(clients_merged.isnull().sum()) # missing values in Age and Job\n",
    "print(balances.isna().sum()) # no missing values"
   ]
  },
  {
   "cell_type": "code",
   "execution_count": null,
   "metadata": {},
   "outputs": [],
   "source": [
    "# dealing with missing values\n"
   ]
  }
 ],
 "metadata": {
  "kernelspec": {
   "display_name": ".venv",
   "language": "python",
   "name": "python3"
  },
  "language_info": {
   "codemirror_mode": {
    "name": "ipython",
    "version": 3
   },
   "file_extension": ".py",
   "mimetype": "text/x-python",
   "name": "python",
   "nbconvert_exporter": "python",
   "pygments_lexer": "ipython3",
   "version": "3.11.6"
  }
 },
 "nbformat": 4,
 "nbformat_minor": 2
}
