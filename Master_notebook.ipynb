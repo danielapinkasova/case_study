{
 "cells": [
  {
   "cell_type": "code",
   "execution_count": 1,
   "metadata": {},
   "outputs": [],
   "source": [
    "# Master jupyter notebook for Case Study"
   ]
  },
  {
   "cell_type": "code",
   "execution_count": 2,
   "metadata": {},
   "outputs": [],
   "source": [
    "# importing libraries\n",
    "import pandas as pd\n",
    "import sqlite3\n",
    "from sklearn.preprocessing import LabelEncoder"
   ]
  },
  {
   "cell_type": "code",
   "execution_count": 3,
   "metadata": {},
   "outputs": [
    {
     "name": "stdout",
     "output_type": "stream",
     "text": [
      "client_id          int64\n",
      "age              float64\n",
      "job               object\n",
      "marital           object\n",
      "education         object\n",
      "gender            object\n",
      "has_deposits      object\n",
      "loan              object\n",
      "has_insurance     object\n",
      "has_mortgage      object\n",
      "dtype: object\n",
      "client_id          0\n",
      "age              232\n",
      "job              438\n",
      "marital            0\n",
      "education          0\n",
      "gender             0\n",
      "has_deposits       0\n",
      "loan               0\n",
      "has_insurance      0\n",
      "has_mortgage       0\n",
      "dtype: int64\n",
      "date         0\n",
      "balance      0\n",
      "client_id    0\n",
      "currency     0\n",
      "dtype: int64\n"
     ]
    }
   ],
   "source": [
    "# Extracting tables from database\n",
    "def list_tables(database_file):\n",
    "    connection = sqlite3.connect('data.db')\n",
    "    cursor = connection.cursor()\n",
    "    cursor.execute(\"\"\"select name from sqlite_master where type = 'table';\n",
    "                    \"\"\")\n",
    "                    \n",
    "    tables = cursor.fetchall()\n",
    "    cursor.close()\n",
    "    connection.close()\n",
    "    table_names = [table[0] for table in tables]\n",
    "    return table_names\n",
    "\n",
    "# Saving tables as dataframes\n",
    "connection = sqlite3.connect('data.db')\n",
    "query = \"\"\"select *\n",
    "        from client as cl;\n",
    "        \"\"\"\n",
    "client = pd.read_sql_query(query, connection)\n",
    "connection.close\n",
    "\n",
    "connection = sqlite3.connect('data.db')\n",
    "query = \"\"\"select *\n",
    "        from client_products as cl;\n",
    "        \"\"\"\n",
    "client_products = pd.read_sql_query(query, connection)\n",
    "connection.close\n",
    "\n",
    "connection = sqlite3.connect('data.db')\n",
    "query = \"\"\"select *\n",
    "        from balances as cl;\n",
    "        \"\"\"\n",
    "balances = pd.read_sql_query(query, connection)\n",
    "connection.close\n",
    "\n",
    "connection = sqlite3.connect('data.db')\n",
    "query = \"\"\"select *\n",
    "        from inv_campaign_eval as cl;\n",
    "        \"\"\"\n",
    "inv_campaign_eval = pd.read_sql_query(query, connection)\n",
    "connection.close\n",
    "\n",
    "# merging tables with client data (excluding balances and campaign eval table)\n",
    "connection = sqlite3.connect('data.db')\n",
    "query = \"\"\"\n",
    "        select cl.client_id, age, job, marital, education, gender, has_deposits, loan, has_insurance, has_mortgage\n",
    "        from client as cl\n",
    "        left join client_products as cp on cl.client_id = cp.client_id\n",
    "        --left join balances as ba on cl.client_id = ba.client_id\n",
    "        --left join inv_campaign_eval as camp on cl.client_id = camp.client_id;\n",
    "        \"\"\"\n",
    "clients_merged = pd.read_sql_query(query, connection)\n",
    "connection.close\n",
    "\n",
    "# checking for datatypes\n",
    "print(clients_merged.dtypes)\n",
    "\n",
    "# checking for missing values\n",
    "print(clients_merged.isnull().sum()) # missing values in Age and Job\n",
    "print(balances.isna().sum()) # no missing values"
   ]
  },
  {
   "cell_type": "code",
   "execution_count": 4,
   "metadata": {},
   "outputs": [],
   "source": [
    "# dealing with missing values\n",
    "clients_merged['job'].fillna('unknown', inplace=True) # imputing \"unknown\" in job\n",
    "clients_merged['age'].fillna(clients_merged['age'].median(), inplace=True) # imputing median in age"
   ]
  },
  {
   "cell_type": "code",
   "execution_count": 10,
   "metadata": {},
   "outputs": [],
   "source": [
    "# label encoding categorical variables\n",
    "le = LabelEncoder()\n",
    "clients_merged['has_deposits_enc'] = le.fit_transform(clients_merged['has_deposits'])\n",
    "clients_merged['loan_enc'] = le.fit_transform(clients_merged['loan'])\n",
    "clients_merged['has_insurance_enc'] = le.fit_transform(clients_merged['has_insurance'])\n",
    "clients_merged['has_mortgage_enc'] = le.fit_transform(clients_merged['has_mortgage'])\n",
    "clients_merged['marital_enc'] = le.fit_transform(clients_merged['marital'])\n",
    "clients_merged['education_enc'] = le.fit_transform(clients_merged['education'])\n",
    "clients_merged['gender_enc'] = le.fit_transform(clients_merged['gender'])\n",
    "clients_merged['job_enc'] = le.fit_transform(clients_merged['job'])"
   ]
  },
  {
   "cell_type": "code",
   "execution_count": 11,
   "metadata": {},
   "outputs": [],
   "source": [
    "# extracting encoding labels\n",
    "job_labels = clients_merged[['job', 'job_enc']].drop_duplicates().sort_values('job_enc')\n",
    "gender_labels = clients_merged[['gender', 'gender_enc']].drop_duplicates().sort_values('gender_enc')\n",
    "education_labels = clients_merged[['education', 'education_enc']].drop_duplicates().sort_values('education_enc')\n",
    "marital_labels = clients_merged[['marital', 'marital_enc']].drop_duplicates().sort_values('marital_enc')\n",
    "has_mortgage_labels = clients_merged[['has_mortgage', 'has_mortgage_enc']].drop_duplicates().sort_values('has_mortgage_enc')\n",
    "has_insurance_labels = clients_merged[['has_insurance', 'has_insurance_enc']].drop_duplicates().sort_values('has_insurance_enc')\n",
    "loan_labels = clients_merged[['loan', 'loan_enc']].drop_duplicates().sort_values('loan_enc')\n",
    "has_deposits_labels = clients_merged[['has_deposits', 'has_deposits_enc']].drop_duplicates().sort_values('has_deposits_enc')"
   ]
  },
  {
   "cell_type": "code",
   "execution_count": null,
   "metadata": {},
   "outputs": [],
   "source": [
    "# feature engineering: balances\n",
    "# last balance, mean balance, min balance, max balance"
   ]
  },
  {
   "cell_type": "code",
   "execution_count": 15,
   "metadata": {},
   "outputs": [
    {
     "name": "stdout",
     "output_type": "stream",
     "text": [
      "       client_id poutcome   age          job   marital  education gender  \\\n",
      "0      249789938  success  38.0     services   married  secondary      M   \n",
      "1     1504633819  failure  38.0   management   married   tertiary      M   \n",
      "2     1952195738  success  34.0     services   married  secondary      M   \n",
      "3      989726384  success  62.0      retired   married  secondary      F   \n",
      "4     1971878545  failure  36.0   management    single   tertiary      M   \n",
      "...          ...      ...   ...          ...       ...        ...    ...   \n",
      "2294  1270855655  failure  58.0       admin.  divorced  secondary      F   \n",
      "2295   471724023  success  72.0      retired   married    primary      M   \n",
      "2296   620088171  failure  34.0       admin.   married   tertiary      F   \n",
      "2297  1518319265  success  39.0   management   married    unknown      F   \n",
      "2298   705801685  success  36.0  blue-collar    single  secondary      F   \n",
      "\n",
      "     has_deposits loan has_insurance has_mortgage  has_deposits_enc  loan_enc  \\\n",
      "0             yes   no             n           no                 1         0   \n",
      "1              no  yes             n          yes                 0         1   \n",
      "2             yes  yes             n           no                 1         1   \n",
      "3             yes   no             n           no                 1         0   \n",
      "4             yes   no             n           no                 1         0   \n",
      "...           ...  ...           ...          ...               ...       ...   \n",
      "2294          yes   no             y          yes                 1         0   \n",
      "2295          yes   no             n           no                 1         0   \n",
      "2296          yes   no             y          yes                 1         0   \n",
      "2297          yes   no             n           no                 1         0   \n",
      "2298          yes   no             n          yes                 1         0   \n",
      "\n",
      "      has_insurance_enc  has_mortgage_enc  marital_enc  education_enc  \\\n",
      "0                     0                 0            1              1   \n",
      "1                     0                 1            1              2   \n",
      "2                     0                 0            1              1   \n",
      "3                     0                 0            1              1   \n",
      "4                     0                 0            2              2   \n",
      "...                 ...               ...          ...            ...   \n",
      "2294                  1                 1            0              1   \n",
      "2295                  0                 0            1              0   \n",
      "2296                  1                 1            1              2   \n",
      "2297                  0                 0            1              3   \n",
      "2298                  0                 1            2              1   \n",
      "\n",
      "      gender_enc  job_enc  \n",
      "0              1        7  \n",
      "1              1        4  \n",
      "2              1        7  \n",
      "3              0        5  \n",
      "4              1        4  \n",
      "...          ...      ...  \n",
      "2294           0        0  \n",
      "2295           1        5  \n",
      "2296           0        0  \n",
      "2297           0        4  \n",
      "2298           0        1  \n",
      "\n",
      "[2299 rows x 19 columns]\n"
     ]
    }
   ],
   "source": [
    "# joining evaluation table with cleaned client table\n",
    "first_round_clients = pd.merge(inv_campaign_eval, clients_merged, on = 'client_id')\n",
    "print(first_round_clients)"
   ]
  }
 ],
 "metadata": {
  "kernelspec": {
   "display_name": ".venv",
   "language": "python",
   "name": "python3"
  },
  "language_info": {
   "codemirror_mode": {
    "name": "ipython",
    "version": 3
   },
   "file_extension": ".py",
   "mimetype": "text/x-python",
   "name": "python",
   "nbconvert_exporter": "python",
   "pygments_lexer": "ipython3",
   "version": "3.11.6"
  }
 },
 "nbformat": 4,
 "nbformat_minor": 2
}
