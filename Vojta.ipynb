{
 "cells": [
  {
   "cell_type": "code",
   "execution_count": 34,
   "metadata": {},
   "outputs": [],
   "source": [
    "import sqlite3\n",
    "def list_tables(database_file):\n",
    "    connection = sqlite3.connect('data.db')\n",
    "    cursor = connection.cursor()\n",
    "    cursor.execute(\"\"\"select name from sqlite_master where type = 'table';\n",
    "                    \"\"\")\n",
    "                    \n",
    "    tables = cursor.fetchall()\n",
    "    cursor.close()\n",
    "    connection.close()\n",
    "    table_names = [table[0] for table in tables]\n",
    "    return table_names\n",
    "\n",
    "\n"
   ]
  },
  {
   "cell_type": "code",
   "execution_count": 35,
   "metadata": {},
   "outputs": [
    {
     "data": {
      "text/plain": [
       "<function Connection.close()>"
      ]
     },
     "execution_count": 35,
     "metadata": {},
     "output_type": "execute_result"
    }
   ],
   "source": [
    "import pandas as pd\n",
    "connection = sqlite3.connect('data.db')\n",
    "query = \"\"\"select *\n",
    "        from client as cl;\n",
    "        \"\"\"\n",
    "client = pd.read_sql_query(query, connection)\n",
    "connection.close"
   ]
  },
  {
   "cell_type": "code",
   "execution_count": 36,
   "metadata": {},
   "outputs": [
    {
     "data": {
      "text/plain": [
       "<function Connection.close()>"
      ]
     },
     "execution_count": 36,
     "metadata": {},
     "output_type": "execute_result"
    }
   ],
   "source": [
    "import pandas as pd\n",
    "connection = sqlite3.connect('data.db')\n",
    "query = \"\"\"select *\n",
    "        from client_products as cl;\n",
    "        \"\"\"\n",
    "client_products = pd.read_sql_query(query, connection)\n",
    "connection.close"
   ]
  },
  {
   "cell_type": "code",
   "execution_count": 37,
   "metadata": {},
   "outputs": [
    {
     "data": {
      "text/plain": [
       "<function Connection.close()>"
      ]
     },
     "execution_count": 37,
     "metadata": {},
     "output_type": "execute_result"
    }
   ],
   "source": [
    "import pandas as pd\n",
    "connection = sqlite3.connect('data.db')\n",
    "query = \"\"\"select *\n",
    "        from balances as cl;\n",
    "        \"\"\"\n",
    "balances = pd.read_sql_query(query, connection)\n",
    "connection.close"
   ]
  },
  {
   "cell_type": "code",
   "execution_count": 38,
   "metadata": {},
   "outputs": [
    {
     "data": {
      "text/plain": [
       "<function Connection.close()>"
      ]
     },
     "execution_count": 38,
     "metadata": {},
     "output_type": "execute_result"
    }
   ],
   "source": [
    "import pandas as pd\n",
    "connection = sqlite3.connect('data.db')\n",
    "query = \"\"\"select *\n",
    "        from inv_campaign_eval as cl;\n",
    "        \"\"\"\n",
    "inv_campaign_eval = pd.read_sql_query(query, connection)\n",
    "connection.close"
   ]
  },
  {
   "cell_type": "code",
   "execution_count": 39,
   "metadata": {},
   "outputs": [
    {
     "data": {
      "text/plain": [
       "<function Connection.close()>"
      ]
     },
     "execution_count": 39,
     "metadata": {},
     "output_type": "execute_result"
    }
   ],
   "source": [
    "connection = sqlite3.connect('data.db')\n",
    "query = \"\"\"\n",
    "        select *\n",
    "        from client as cl\n",
    "        left join client_products as cp on cl.client_id = cp.client_id\n",
    "        --left join balances as ba on cl.client_id = ba.client_id\n",
    "        left join inv_campaign_eval as camp on cl.client_id = camp.client_id;\n",
    "        \"\"\"\n",
    "clients_merged = pd.read_sql_query(query, connection)\n",
    "connection.close"
   ]
  },
  {
   "cell_type": "code",
   "execution_count": 40,
   "metadata": {},
   "outputs": [],
   "source": [
    "my_database_file_path = \"/content/data.db\""
   ]
  },
  {
   "cell_type": "code",
   "execution_count": 41,
   "metadata": {},
   "outputs": [
    {
     "name": "stdout",
     "output_type": "stream",
     "text": [
      "    client_id   age            job   marital  education gender\n",
      "0   249789938  38.0       services   married  secondary      M\n",
      "1  1222646323  46.0       services  divorced    unknown      M\n",
      "2   451375919  33.0         admin.    single  secondary      F\n",
      "3   338972671  44.0  self-employed   married  secondary      F\n",
      "4  1472834688  36.0    blue-collar   married    primary      M\n",
      "5  1068680340  63.0         admin.   married  secondary      F\n",
      "6   711558356  38.0  self-employed    single   tertiary      F\n",
      "7   422084751  30.0     technician    single  secondary      M\n",
      "8   123316323  36.0    blue-collar  divorced  secondary      F\n",
      "9  1504633819  38.0     management   married   tertiary      M\n",
      "    client_id has_deposits loan has_insurance has_mortgage\n",
      "0   249789938          yes   no             n           no\n",
      "1  1222646323           no   no             n           no\n",
      "2   451375919           no   no             n          yes\n",
      "3   338972671           no   no             y          yes\n",
      "4  1472834688          yes   no             n          yes\n",
      "5  1068680340          yes   no             n          yes\n",
      "6   711558356          yes   no             n          yes\n",
      "7   422084751          yes   no             n           no\n",
      "8   123316323          yes   no             n           no\n",
      "9  1504633819           no  yes             n          yes\n",
      "                         date      balance  client_id currency\n",
      "0  2023-06-06 16:21:15.291346  2680.467773  249789938      CZK\n",
      "1  2023-05-23 16:21:15.291346  2654.055419  249789938      CZK\n",
      "2  2023-05-09 16:21:15.291346  2620.835872  249789938      CZK\n",
      "3  2023-04-25 16:21:15.291346  2720.315925  249789938      CZK\n",
      "4  2023-04-11 16:21:15.291346  2687.601982  249789938      CZK\n",
      "5  2023-03-28 16:21:15.291346  2681.192901  249789938      CZK\n",
      "6  2023-03-14 16:21:15.291346  2669.402467  249789938      CZK\n",
      "7  2023-02-28 16:21:15.291346  2685.846081  249789938      CZK\n",
      "8  2023-02-14 16:21:15.291346  2709.095707  249789938      CZK\n",
      "9  2023-01-31 16:21:15.291346  2664.606049  249789938      CZK\n",
      "    client_id poutcome\n",
      "0   249789938  success\n",
      "1  1504633819  failure\n",
      "2  1952195738  success\n",
      "3   989726384  success\n",
      "4  1971878545  failure\n",
      "5  1823731216  failure\n",
      "6  1129179996  failure\n",
      "7   178705988  success\n",
      "8  1744740913  success\n",
      "9  1810967844  success\n",
      "    client_id   age            job   marital  education gender   client_id  \\\n",
      "0   249789938  38.0       services   married  secondary      M   249789938   \n",
      "1  1222646323  46.0       services  divorced    unknown      M  1222646323   \n",
      "2   451375919  33.0         admin.    single  secondary      F   451375919   \n",
      "3   338972671  44.0  self-employed   married  secondary      F   338972671   \n",
      "4  1472834688  36.0    blue-collar   married    primary      M  1472834688   \n",
      "5  1068680340  63.0         admin.   married  secondary      F  1068680340   \n",
      "6   711558356  38.0  self-employed    single   tertiary      F   711558356   \n",
      "7   422084751  30.0     technician    single  secondary      M   422084751   \n",
      "8   123316323  36.0    blue-collar  divorced  secondary      F   123316323   \n",
      "9  1504633819  38.0     management   married   tertiary      M  1504633819   \n",
      "\n",
      "  has_deposits loan has_insurance has_mortgage     client_id poutcome  \n",
      "0          yes   no             n           no  2.497899e+08  success  \n",
      "1           no   no             n           no           NaN     None  \n",
      "2           no   no             n          yes           NaN     None  \n",
      "3           no   no             y          yes           NaN     None  \n",
      "4          yes   no             n          yes           NaN     None  \n",
      "5          yes   no             n          yes           NaN     None  \n",
      "6          yes   no             n          yes           NaN     None  \n",
      "7          yes   no             n           no           NaN     None  \n",
      "8          yes   no             n           no           NaN     None  \n",
      "9           no  yes             n          yes  1.504634e+09  failure  \n"
     ]
    }
   ],
   "source": [
    "\n",
    "print(client.head(10))\n",
    "print(client_products.head(10))\n",
    "print(balances.head(10))\n",
    "print(inv_campaign_eval.head(10))\n",
    "print(clients_merged.head(10))"
   ]
  },
  {
   "cell_type": "code",
   "execution_count": 42,
   "metadata": {},
   "outputs": [
    {
     "name": "stdout",
     "output_type": "stream",
     "text": [
      "        client_id   age            job   marital  education gender  \\\n",
      "0       249789938  38.0       services   married  secondary      M   \n",
      "1      1222646323  46.0       services  divorced    unknown      M   \n",
      "2       451375919  33.0         admin.    single  secondary      F   \n",
      "3       338972671  44.0  self-employed   married  secondary      F   \n",
      "4      1472834688  36.0    blue-collar   married    primary      M   \n",
      "...           ...   ...            ...       ...        ...    ...   \n",
      "11157   543198889  40.0    blue-collar    single    unknown      M   \n",
      "11158   458558558  41.0      housemaid  divorced    primary      F   \n",
      "11159  1426334329  59.0     technician   married    primary      F   \n",
      "11160   831035343  42.0     management   married   tertiary      M   \n",
      "11161   705801685  36.0    blue-collar    single  secondary      F   \n",
      "\n",
      "        client_id has_deposits loan has_insurance has_mortgage    client_id  \\\n",
      "0       249789938          yes   no             n           no  249789938.0   \n",
      "1      1222646323           no   no             n           no          NaN   \n",
      "2       451375919           no   no             n          yes          NaN   \n",
      "3       338972671           no   no             y          yes          NaN   \n",
      "4      1472834688          yes   no             n          yes          NaN   \n",
      "...           ...          ...  ...           ...          ...          ...   \n",
      "11157   543198889           no   no             n          yes          NaN   \n",
      "11158   458558558           no   no             n          yes          NaN   \n",
      "11159  1426334329           no   no             y          yes          NaN   \n",
      "11160   831035343           no   no             n           no          NaN   \n",
      "11161   705801685          yes   no             n          yes  705801685.0   \n",
      "\n",
      "      poutcome  success  \n",
      "0      success        1  \n",
      "1         None        1  \n",
      "2         None        1  \n",
      "3         None        1  \n",
      "4         None        1  \n",
      "...        ...      ...  \n",
      "11157     None        1  \n",
      "11158     None        1  \n",
      "11159     None        1  \n",
      "11160     None        1  \n",
      "11161  success        1  \n",
      "\n",
      "[11162 rows x 14 columns]\n"
     ]
    }
   ],
   "source": [
    "# Corrected filter\n",
    "filter_condition = (clients_merged[\"poutcome\"] == 'failure')\n",
    "\n",
    "# Add a new column \"has_family\" and initialize it to 0\n",
    "clients_merged[\"success\"] = 1\n",
    "\n",
    "# Set \"has_family\" to 1 where the filter condition is met\n",
    "clients_merged.loc[filter_condition, \"success\"] = 0\n",
    "\n",
    "# Display the DataFrame\n",
    "print(clients_merged)"
   ]
  },
  {
   "cell_type": "code",
   "execution_count": 43,
   "metadata": {},
   "outputs": [
    {
     "data": {
      "text/plain": [
       "client_id           0\n",
       "age               232\n",
       "job               438\n",
       "marital             0\n",
       "education           0\n",
       "gender              0\n",
       "client_id           0\n",
       "has_deposits        0\n",
       "loan                0\n",
       "has_insurance       0\n",
       "has_mortgage        0\n",
       "client_id        8863\n",
       "poutcome         8863\n",
       "success             0\n",
       "dtype: int64"
      ]
     },
     "execution_count": 43,
     "metadata": {},
     "output_type": "execute_result"
    }
   ],
   "source": [
    "clients_merged.isnull().sum()"
   ]
  },
  {
   "cell_type": "code",
   "execution_count": 44,
   "metadata": {},
   "outputs": [
    {
     "data": {
      "text/plain": [
       "client_id          int64\n",
       "age              float64\n",
       "job               object\n",
       "marital           object\n",
       "education         object\n",
       "gender            object\n",
       "client_id          int64\n",
       "has_deposits      object\n",
       "loan              object\n",
       "has_insurance     object\n",
       "has_mortgage      object\n",
       "client_id        float64\n",
       "poutcome          object\n",
       "success            int64\n",
       "dtype: object"
      ]
     },
     "execution_count": 44,
     "metadata": {},
     "output_type": "execute_result"
    }
   ],
   "source": [
    "clients_merged.dtypes"
   ]
  },
  {
   "cell_type": "code",
   "execution_count": 32,
   "metadata": {},
   "outputs": [
    {
     "data": {
      "text/plain": [
       "Text(0.5, 1.0, 'Survival Rate by Sex')"
      ]
     },
     "execution_count": 32,
     "metadata": {},
     "output_type": "execute_result"
    },
    {
     "data": {
      "image/png": "[encoded data removed]",
      "text/plain": [
       "<Figure size 2000x700 with 1 Axes>"
      ]
     },
     "metadata": {},
     "output_type": "display_data"
    }
   ],
   "source": [
    "import matplotlib.pyplot as plt\n",
    "import seaborn as sns\n",
    "\n",
    "plt.figure(figsize=(20, 7))\n",
    "\n",
    "# Survival rate by Sex\n",
    "plt.subplot(1, 2, 1)\n",
    "sns.countplot(data=inv_campaign_eval, x='success', palette='viridis')\n",
    "plt.title('Survival Rate by Sex')"
   ]
  },
  {
   "cell_type": "code",
   "execution_count": null,
   "metadata": {},
   "outputs": [],
   "source": [
    "# Set the aesthetic style of the plots\n",
    "sns.set_style(\"whitegrid\")\n",
    "\n",
    "# List of columns for univariate analysis\n",
    "columns_to_analyze = ['Survived', 'Pclass', 'Sex_male', 'Age', 'SibSp', 'Parch', 'Fare']\n"
   ]
  }
 ],
 "metadata": {
  "kernelspec": {
   "display_name": ".venv",
   "language": "python",
   "name": "python3"
  },
  "language_info": {
   "codemirror_mode": {
    "name": "ipython",
    "version": 3
   },
   "file_extension": ".py",
   "mimetype": "text/x-python",
   "name": "python",
   "nbconvert_exporter": "python",
   "pygments_lexer": "ipython3",
   "version": "3.10.8"
  }
 },
 "nbformat": 4,
 "nbformat_minor": 2
}
