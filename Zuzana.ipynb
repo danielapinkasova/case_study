{
 "cells": [
  {
   "cell_type": "code",
   "execution_count": 1,
   "metadata": {},
   "outputs": [],
   "source": [
    "import sqlite3\n",
    "def list_tables(database_file):\n",
    "    connection = sqlite3.connect('data.db')\n",
    "    cursor = connection.cursor()\n",
    "    cursor.execute(\"\"\"select name from sqlite_master where type = 'table';\n",
    "                    \"\"\")\n",
    "                    \n",
    "    tables = cursor.fetchall()\n",
    "    cursor.close()\n",
    "    connection.close()\n",
    "    table_names = [table[0] for table in tables]\n",
    "    return table_names"
   ]
  },
  {
   "cell_type": "code",
   "execution_count": 2,
   "metadata": {},
   "outputs": [
    {
     "data": {
      "text/plain": [
       "<function Connection.close>"
      ]
     },
     "execution_count": 2,
     "metadata": {},
     "output_type": "execute_result"
    }
   ],
   "source": [
    "import pandas as pd\n",
    "connection = sqlite3.connect('data.db')\n",
    "query = \"\"\"select *\n",
    "        from client as cl;\n",
    "        \"\"\"\n",
    "client = pd.read_sql_query(query, connection)\n",
    "connection.close"
   ]
  },
  {
   "cell_type": "code",
   "execution_count": 3,
   "metadata": {},
   "outputs": [
    {
     "data": {
      "text/plain": [
       "<function Connection.close>"
      ]
     },
     "execution_count": 3,
     "metadata": {},
     "output_type": "execute_result"
    }
   ],
   "source": [
    "import pandas as pd\n",
    "connection = sqlite3.connect('data.db')\n",
    "query = \"\"\"select *\n",
    "        from client_products as cl;\n",
    "        \"\"\"\n",
    "client_products = pd.read_sql_query(query, connection)\n",
    "connection.close"
   ]
  },
  {
   "cell_type": "code",
   "execution_count": 4,
   "metadata": {},
   "outputs": [
    {
     "data": {
      "text/plain": [
       "<function Connection.close>"
      ]
     },
     "execution_count": 4,
     "metadata": {},
     "output_type": "execute_result"
    }
   ],
   "source": [
    "import pandas as pd\n",
    "connection = sqlite3.connect('data.db')\n",
    "query = \"\"\"select *\n",
    "        from balances as cl;\n",
    "        \"\"\"\n",
    "balances = pd.read_sql_query(query, connection)\n",
    "connection.close"
   ]
  },
  {
   "cell_type": "code",
   "execution_count": 5,
   "metadata": {},
   "outputs": [
    {
     "data": {
      "text/plain": [
       "<function Connection.close>"
      ]
     },
     "execution_count": 5,
     "metadata": {},
     "output_type": "execute_result"
    }
   ],
   "source": [
    "import pandas as pd\n",
    "connection = sqlite3.connect('data.db')\n",
    "query = \"\"\"select *\n",
    "        from inv_campaign_eval as cl;\n",
    "        \"\"\"\n",
    "inv_campaign_eval = pd.read_sql_query(query, connection)\n",
    "connection.close"
   ]
  },
  {
   "cell_type": "code",
   "execution_count": 6,
   "metadata": {},
   "outputs": [
    {
     "data": {
      "text/plain": [
       "<function Connection.close>"
      ]
     },
     "execution_count": 6,
     "metadata": {},
     "output_type": "execute_result"
    }
   ],
   "source": [
    "connection = sqlite3.connect('data.db')\n",
    "query = \"\"\"\n",
    "        select *\n",
    "        from client as cl\n",
    "        left join client_products as cp on cl.client_id = cp.client_id\n",
    "        --left join balances as ba on cl.client_id = ba.client_id\n",
    "        left join inv_campaign_eval as camp on cl.client_id = camp.client_id;\n",
    "        \"\"\"\n",
    "clients_merged = pd.read_sql_query(query, connection)\n",
    "connection.close"
   ]
  },
  {
   "cell_type": "code",
   "execution_count": 7,
   "metadata": {},
   "outputs": [],
   "source": [
    "my_database_file_path = \"/content/data.db\""
   ]
  },
  {
   "cell_type": "code",
   "execution_count": 8,
   "metadata": {},
   "outputs": [
    {
     "name": "stdout",
     "output_type": "stream",
     "text": [
      "    client_id   age            job   marital  education gender\n",
      "0   249789938  38.0       services   married  secondary      M\n",
      "1  1222646323  46.0       services  divorced    unknown      M\n",
      "2   451375919  33.0         admin.    single  secondary      F\n",
      "3   338972671  44.0  self-employed   married  secondary      F\n",
      "4  1472834688  36.0    blue-collar   married    primary      M\n",
      "5  1068680340  63.0         admin.   married  secondary      F\n",
      "6   711558356  38.0  self-employed    single   tertiary      F\n",
      "7   422084751  30.0     technician    single  secondary      M\n",
      "8   123316323  36.0    blue-collar  divorced  secondary      F\n",
      "9  1504633819  38.0     management   married   tertiary      M\n",
      "    client_id has_deposits loan has_insurance has_mortgage\n",
      "0   249789938          yes   no             n           no\n",
      "1  1222646323           no   no             n           no\n",
      "2   451375919           no   no             n          yes\n",
      "3   338972671           no   no             y          yes\n",
      "4  1472834688          yes   no             n          yes\n",
      "5  1068680340          yes   no             n          yes\n",
      "6   711558356          yes   no             n          yes\n",
      "7   422084751          yes   no             n           no\n",
      "8   123316323          yes   no             n           no\n",
      "9  1504633819           no  yes             n          yes\n",
      "                         date      balance  client_id currency\n",
      "0  2023-06-06 16:21:15.291346  2680.467773  249789938      CZK\n",
      "1  2023-05-23 16:21:15.291346  2654.055419  249789938      CZK\n",
      "2  2023-05-09 16:21:15.291346  2620.835872  249789938      CZK\n",
      "3  2023-04-25 16:21:15.291346  2720.315925  249789938      CZK\n",
      "4  2023-04-11 16:21:15.291346  2687.601982  249789938      CZK\n",
      "5  2023-03-28 16:21:15.291346  2681.192901  249789938      CZK\n",
      "6  2023-03-14 16:21:15.291346  2669.402467  249789938      CZK\n",
      "7  2023-02-28 16:21:15.291346  2685.846081  249789938      CZK\n",
      "8  2023-02-14 16:21:15.291346  2709.095707  249789938      CZK\n",
      "9  2023-01-31 16:21:15.291346  2664.606049  249789938      CZK\n",
      "    client_id poutcome\n",
      "0   249789938  success\n",
      "1  1504633819  failure\n",
      "2  1952195738  success\n",
      "3   989726384  success\n",
      "4  1971878545  failure\n",
      "5  1823731216  failure\n",
      "6  1129179996  failure\n",
      "7   178705988  success\n",
      "8  1744740913  success\n",
      "9  1810967844  success\n",
      "    client_id   age            job   marital  education gender   client_id  \\\n",
      "0   249789938  38.0       services   married  secondary      M   249789938   \n",
      "1  1222646323  46.0       services  divorced    unknown      M  1222646323   \n",
      "2   451375919  33.0         admin.    single  secondary      F   451375919   \n",
      "3   338972671  44.0  self-employed   married  secondary      F   338972671   \n",
      "4  1472834688  36.0    blue-collar   married    primary      M  1472834688   \n",
      "5  1068680340  63.0         admin.   married  secondary      F  1068680340   \n",
      "6   711558356  38.0  self-employed    single   tertiary      F   711558356   \n",
      "7   422084751  30.0     technician    single  secondary      M   422084751   \n",
      "8   123316323  36.0    blue-collar  divorced  secondary      F   123316323   \n",
      "9  1504633819  38.0     management   married   tertiary      M  1504633819   \n",
      "\n",
      "  has_deposits loan has_insurance has_mortgage     client_id poutcome  \n",
      "0          yes   no             n           no  2.497899e+08  success  \n",
      "1           no   no             n           no           NaN     None  \n",
      "2           no   no             n          yes           NaN     None  \n",
      "3           no   no             y          yes           NaN     None  \n",
      "4          yes   no             n          yes           NaN     None  \n",
      "5          yes   no             n          yes           NaN     None  \n",
      "6          yes   no             n          yes           NaN     None  \n",
      "7          yes   no             n           no           NaN     None  \n",
      "8          yes   no             n           no           NaN     None  \n",
      "9           no  yes             n          yes  1.504634e+09  failure  \n"
     ]
    }
   ],
   "source": [
    "print(client.head(10))\n",
    "print(client_products.head(10))\n",
    "print(balances.head(10))\n",
    "print(inv_campaign_eval.head(10))\n",
    "print(clients_merged.head(10))"
   ]
  },
  {
   "cell_type": "code",
   "execution_count": 13,
   "metadata": {},
   "outputs": [
    {
     "name": "stdout",
     "output_type": "stream",
     "text": [
      "    client_id   age            job   marital  education gender   client_id  \\\n",
      "0   249789938  38.0       services   married  secondary      M   249789938   \n",
      "1  1222646323  46.0       services  divorced    unknown      M  1222646323   \n",
      "2   451375919  33.0         admin.    single  secondary      F   451375919   \n",
      "3   338972671  44.0  self-employed   married  secondary      F   338972671   \n",
      "4  1472834688  36.0    blue-collar   married    primary      M  1472834688   \n",
      "\n",
      "  has_deposits loan has_insurance has_mortgage    client_id poutcome  success  \n",
      "0          yes   no             n           no  249789938.0  success        1  \n",
      "1           no   no             n           no          NaN     None        1  \n",
      "2           no   no             n          yes          NaN     None        1  \n",
      "3           no   no             y          yes          NaN     None        1  \n",
      "4          yes   no             n          yes          NaN     None        1  \n"
     ]
    }
   ],
   "source": [
    "# Corrected filter\n",
    "filter_condition = (clients_merged[\"poutcome\"] == 'failure')\n",
    "\n",
    "# Add a new column \"has_family\" and initialize it to 0\n",
    "clients_merged[\"success\"] = 1\n",
    "\n",
    "# Set \"has_family\" to 1 where the filter condition is met\n",
    "clients_merged.loc[filter_condition, \"success\"] = 0\n",
    "\n",
    "# Display the DataFrame\n",
    "print(clients_merged.head())"
   ]
  },
  {
   "cell_type": "code",
   "execution_count": 10,
   "metadata": {},
   "outputs": [
    {
     "data": {
      "text/plain": [
       "client_id           0\n",
       "age               232\n",
       "job               438\n",
       "marital             0\n",
       "education           0\n",
       "gender              0\n",
       "client_id           0\n",
       "has_deposits        0\n",
       "loan                0\n",
       "has_insurance       0\n",
       "has_mortgage        0\n",
       "client_id        8863\n",
       "poutcome         8863\n",
       "success             0\n",
       "dtype: int64"
      ]
     },
     "execution_count": 10,
     "metadata": {},
     "output_type": "execute_result"
    }
   ],
   "source": [
    "clients_merged.isnull().sum()"
   ]
  },
  {
   "cell_type": "code",
   "execution_count": 11,
   "metadata": {},
   "outputs": [
    {
     "data": {
      "text/plain": [
       "client_id          int64\n",
       "age              float64\n",
       "job               object\n",
       "marital           object\n",
       "education         object\n",
       "gender            object\n",
       "client_id          int64\n",
       "has_deposits      object\n",
       "loan              object\n",
       "has_insurance     object\n",
       "has_mortgage      object\n",
       "client_id        float64\n",
       "poutcome          object\n",
       "success            int64\n",
       "dtype: object"
      ]
     },
     "execution_count": 11,
     "metadata": {},
     "output_type": "execute_result"
    }
   ],
   "source": [
    "clients_merged.dtypes"
   ]
  },
  {
   "cell_type": "code",
   "execution_count": 12,
   "metadata": {},
   "outputs": [
    {
     "ename": "ValueError",
     "evalue": "Could not interpret value `success` for `x`. An entry with this name does not appear in `data`.",
     "output_type": "error",
     "traceback": [
      "\u001b[0;31m---------------------------------------------------------------------------\u001b[0m",
      "\u001b[0;31mValueError\u001b[0m                                Traceback (most recent call last)",
      "\u001b[1;32m/Users/zuzana/case_study/case_study/Zuzana.ipynb Cell 12\u001b[0m line \u001b[0;36m8\n\u001b[1;32m      <a href='vscode-notebook-cell:/Users/zuzana/case_study/case_study/Zuzana.ipynb#X14sZmlsZQ%3D%3D?line=5'>6</a>\u001b[0m \u001b[39m# Survival rate by Sex\u001b[39;00m\n\u001b[1;32m      <a href='vscode-notebook-cell:/Users/zuzana/case_study/case_study/Zuzana.ipynb#X14sZmlsZQ%3D%3D?line=6'>7</a>\u001b[0m plt\u001b[39m.\u001b[39msubplot(\u001b[39m1\u001b[39m, \u001b[39m2\u001b[39m, \u001b[39m1\u001b[39m)\n\u001b[0;32m----> <a href='vscode-notebook-cell:/Users/zuzana/case_study/case_study/Zuzana.ipynb#X14sZmlsZQ%3D%3D?line=7'>8</a>\u001b[0m sns\u001b[39m.\u001b[39;49mcountplot(data\u001b[39m=\u001b[39;49minv_campaign_eval, x\u001b[39m=\u001b[39;49m\u001b[39m'\u001b[39;49m\u001b[39msuccess\u001b[39;49m\u001b[39m'\u001b[39;49m, palette\u001b[39m=\u001b[39;49m\u001b[39m'\u001b[39;49m\u001b[39mviridis\u001b[39;49m\u001b[39m'\u001b[39;49m)\n\u001b[1;32m      <a href='vscode-notebook-cell:/Users/zuzana/case_study/case_study/Zuzana.ipynb#X14sZmlsZQ%3D%3D?line=8'>9</a>\u001b[0m plt\u001b[39m.\u001b[39mtitle(\u001b[39m'\u001b[39m\u001b[39mSurvival Rate by Sex\u001b[39m\u001b[39m'\u001b[39m)\n",
      "File \u001b[0;32m~/case_study/case_study/.venv/lib/python3.9/site-packages/seaborn/categorical.py:2615\u001b[0m, in \u001b[0;36mcountplot\u001b[0;34m(data, x, y, hue, order, hue_order, orient, color, palette, saturation, fill, hue_norm, stat, width, dodge, gap, log_scale, native_scale, formatter, legend, ax, **kwargs)\u001b[0m\n\u001b[1;32m   2612\u001b[0m \u001b[39melif\u001b[39;00m x \u001b[39mis\u001b[39;00m \u001b[39mnot\u001b[39;00m \u001b[39mNone\u001b[39;00m \u001b[39mand\u001b[39;00m y \u001b[39mis\u001b[39;00m \u001b[39mnot\u001b[39;00m \u001b[39mNone\u001b[39;00m:\n\u001b[1;32m   2613\u001b[0m     \u001b[39mraise\u001b[39;00m \u001b[39mTypeError\u001b[39;00m(\u001b[39m\"\u001b[39m\u001b[39mCannot pass values for both `x` and `y`.\u001b[39m\u001b[39m\"\u001b[39m)\n\u001b[0;32m-> 2615\u001b[0m p \u001b[39m=\u001b[39m _CategoricalAggPlotter(\n\u001b[1;32m   2616\u001b[0m     data\u001b[39m=\u001b[39;49mdata,\n\u001b[1;32m   2617\u001b[0m     variables\u001b[39m=\u001b[39;49m\u001b[39mdict\u001b[39;49m(x\u001b[39m=\u001b[39;49mx, y\u001b[39m=\u001b[39;49my, hue\u001b[39m=\u001b[39;49mhue),\n\u001b[1;32m   2618\u001b[0m     order\u001b[39m=\u001b[39;49morder,\n\u001b[1;32m   2619\u001b[0m     orient\u001b[39m=\u001b[39;49morient,\n\u001b[1;32m   2620\u001b[0m     color\u001b[39m=\u001b[39;49mcolor,\n\u001b[1;32m   2621\u001b[0m     legend\u001b[39m=\u001b[39;49mlegend,\n\u001b[1;32m   2622\u001b[0m )\n\u001b[1;32m   2624\u001b[0m \u001b[39mif\u001b[39;00m ax \u001b[39mis\u001b[39;00m \u001b[39mNone\u001b[39;00m:\n\u001b[1;32m   2625\u001b[0m     ax \u001b[39m=\u001b[39m plt\u001b[39m.\u001b[39mgca()\n",
      "File \u001b[0;32m~/case_study/case_study/.venv/lib/python3.9/site-packages/seaborn/categorical.py:62\u001b[0m, in \u001b[0;36m_CategoricalPlotter.__init__\u001b[0;34m(self, data, variables, order, orient, require_numeric, color, legend)\u001b[0m\n\u001b[1;32m     51\u001b[0m \u001b[39mdef\u001b[39;00m \u001b[39m__init__\u001b[39m(\n\u001b[1;32m     52\u001b[0m     \u001b[39mself\u001b[39m,\n\u001b[1;32m     53\u001b[0m     data\u001b[39m=\u001b[39m\u001b[39mNone\u001b[39;00m,\n\u001b[0;32m   (...)\u001b[0m\n\u001b[1;32m     59\u001b[0m     legend\u001b[39m=\u001b[39m\u001b[39m\"\u001b[39m\u001b[39mauto\u001b[39m\u001b[39m\"\u001b[39m,\n\u001b[1;32m     60\u001b[0m ):\n\u001b[0;32m---> 62\u001b[0m     \u001b[39msuper\u001b[39;49m()\u001b[39m.\u001b[39;49m\u001b[39m__init__\u001b[39;49m(data\u001b[39m=\u001b[39;49mdata, variables\u001b[39m=\u001b[39;49mvariables)\n\u001b[1;32m     64\u001b[0m     \u001b[39m# This method takes care of some bookkeeping that is necessary because the\u001b[39;00m\n\u001b[1;32m     65\u001b[0m     \u001b[39m# original categorical plots (prior to the 2021 refactor) had some rules that\u001b[39;00m\n\u001b[1;32m     66\u001b[0m     \u001b[39m# don't fit exactly into VectorPlotter logic. It may be wise to have a second\u001b[39;00m\n\u001b[0;32m   (...)\u001b[0m\n\u001b[1;32m     71\u001b[0m     \u001b[39m# default VectorPlotter rules. If we do decide to make orient part of the\u001b[39;00m\n\u001b[1;32m     72\u001b[0m     \u001b[39m# _base variable assignment, we'll want to figure out how to express that.\u001b[39;00m\n\u001b[1;32m     73\u001b[0m     \u001b[39mif\u001b[39;00m \u001b[39mself\u001b[39m\u001b[39m.\u001b[39minput_format \u001b[39m==\u001b[39m \u001b[39m\"\u001b[39m\u001b[39mwide\u001b[39m\u001b[39m\"\u001b[39m \u001b[39mand\u001b[39;00m orient \u001b[39min\u001b[39;00m [\u001b[39m\"\u001b[39m\u001b[39mh\u001b[39m\u001b[39m\"\u001b[39m, \u001b[39m\"\u001b[39m\u001b[39my\u001b[39m\u001b[39m\"\u001b[39m]:\n",
      "File \u001b[0;32m~/case_study/case_study/.venv/lib/python3.9/site-packages/seaborn/_base.py:634\u001b[0m, in \u001b[0;36mVectorPlotter.__init__\u001b[0;34m(self, data, variables)\u001b[0m\n\u001b[1;32m    629\u001b[0m \u001b[39m# var_ordered is relevant only for categorical axis variables, and may\u001b[39;00m\n\u001b[1;32m    630\u001b[0m \u001b[39m# be better handled by an internal axis information object that tracks\u001b[39;00m\n\u001b[1;32m    631\u001b[0m \u001b[39m# such information and is set up by the scale_* methods. The analogous\u001b[39;00m\n\u001b[1;32m    632\u001b[0m \u001b[39m# information for numeric axes would be information about log scales.\u001b[39;00m\n\u001b[1;32m    633\u001b[0m \u001b[39mself\u001b[39m\u001b[39m.\u001b[39m_var_ordered \u001b[39m=\u001b[39m {\u001b[39m\"\u001b[39m\u001b[39mx\u001b[39m\u001b[39m\"\u001b[39m: \u001b[39mFalse\u001b[39;00m, \u001b[39m\"\u001b[39m\u001b[39my\u001b[39m\u001b[39m\"\u001b[39m: \u001b[39mFalse\u001b[39;00m}  \u001b[39m# alt., used DefaultDict\u001b[39;00m\n\u001b[0;32m--> 634\u001b[0m \u001b[39mself\u001b[39;49m\u001b[39m.\u001b[39;49massign_variables(data, variables)\n\u001b[1;32m    636\u001b[0m \u001b[39m# TODO Lots of tests assume that these are called to initialize the\u001b[39;00m\n\u001b[1;32m    637\u001b[0m \u001b[39m# mappings to default values on class initialization. I'd prefer to\u001b[39;00m\n\u001b[1;32m    638\u001b[0m \u001b[39m# move away from that and only have a mapping when explicitly called.\u001b[39;00m\n\u001b[1;32m    639\u001b[0m \u001b[39mfor\u001b[39;00m var \u001b[39min\u001b[39;00m [\u001b[39m\"\u001b[39m\u001b[39mhue\u001b[39m\u001b[39m\"\u001b[39m, \u001b[39m\"\u001b[39m\u001b[39msize\u001b[39m\u001b[39m\"\u001b[39m, \u001b[39m\"\u001b[39m\u001b[39mstyle\u001b[39m\u001b[39m\"\u001b[39m]:\n",
      "File \u001b[0;32m~/case_study/case_study/.venv/lib/python3.9/site-packages/seaborn/_base.py:679\u001b[0m, in \u001b[0;36mVectorPlotter.assign_variables\u001b[0;34m(self, data, variables)\u001b[0m\n\u001b[1;32m    674\u001b[0m \u001b[39melse\u001b[39;00m:\n\u001b[1;32m    675\u001b[0m     \u001b[39m# When dealing with long-form input, use the newer PlotData\u001b[39;00m\n\u001b[1;32m    676\u001b[0m     \u001b[39m# object (internal but introduced for the objects interface)\u001b[39;00m\n\u001b[1;32m    677\u001b[0m     \u001b[39m# to centralize / standardize data consumption logic.\u001b[39;00m\n\u001b[1;32m    678\u001b[0m     \u001b[39mself\u001b[39m\u001b[39m.\u001b[39minput_format \u001b[39m=\u001b[39m \u001b[39m\"\u001b[39m\u001b[39mlong\u001b[39m\u001b[39m\"\u001b[39m\n\u001b[0;32m--> 679\u001b[0m     plot_data \u001b[39m=\u001b[39m PlotData(data, variables)\n\u001b[1;32m    680\u001b[0m     frame \u001b[39m=\u001b[39m plot_data\u001b[39m.\u001b[39mframe\n\u001b[1;32m    681\u001b[0m     names \u001b[39m=\u001b[39m plot_data\u001b[39m.\u001b[39mnames\n",
      "File \u001b[0;32m~/case_study/case_study/.venv/lib/python3.9/site-packages/seaborn/_core/data.py:58\u001b[0m, in \u001b[0;36mPlotData.__init__\u001b[0;34m(self, data, variables)\u001b[0m\n\u001b[1;32m     51\u001b[0m \u001b[39mdef\u001b[39;00m \u001b[39m__init__\u001b[39m(\n\u001b[1;32m     52\u001b[0m     \u001b[39mself\u001b[39m,\n\u001b[1;32m     53\u001b[0m     data: DataSource,\n\u001b[1;32m     54\u001b[0m     variables: \u001b[39mdict\u001b[39m[\u001b[39mstr\u001b[39m, VariableSpec],\n\u001b[1;32m     55\u001b[0m ):\n\u001b[1;32m     57\u001b[0m     data \u001b[39m=\u001b[39m handle_data_source(data)\n\u001b[0;32m---> 58\u001b[0m     frame, names, ids \u001b[39m=\u001b[39m \u001b[39mself\u001b[39;49m\u001b[39m.\u001b[39;49m_assign_variables(data, variables)\n\u001b[1;32m     60\u001b[0m     \u001b[39mself\u001b[39m\u001b[39m.\u001b[39mframe \u001b[39m=\u001b[39m frame\n\u001b[1;32m     61\u001b[0m     \u001b[39mself\u001b[39m\u001b[39m.\u001b[39mnames \u001b[39m=\u001b[39m names\n",
      "File \u001b[0;32m~/case_study/case_study/.venv/lib/python3.9/site-packages/seaborn/_core/data.py:232\u001b[0m, in \u001b[0;36mPlotData._assign_variables\u001b[0;34m(self, data, variables)\u001b[0m\n\u001b[1;32m    230\u001b[0m     \u001b[39melse\u001b[39;00m:\n\u001b[1;32m    231\u001b[0m         err \u001b[39m+\u001b[39m\u001b[39m=\u001b[39m \u001b[39m\"\u001b[39m\u001b[39mAn entry with this name does not appear in `data`.\u001b[39m\u001b[39m\"\u001b[39m\n\u001b[0;32m--> 232\u001b[0m     \u001b[39mraise\u001b[39;00m \u001b[39mValueError\u001b[39;00m(err)\n\u001b[1;32m    234\u001b[0m \u001b[39melse\u001b[39;00m:\n\u001b[1;32m    235\u001b[0m \n\u001b[1;32m    236\u001b[0m     \u001b[39m# Otherwise, assume the value somehow represents data\u001b[39;00m\n\u001b[1;32m    237\u001b[0m \n\u001b[1;32m    238\u001b[0m     \u001b[39m# Ignore empty data structures\u001b[39;00m\n\u001b[1;32m    239\u001b[0m     \u001b[39mif\u001b[39;00m \u001b[39misinstance\u001b[39m(val, Sized) \u001b[39mand\u001b[39;00m \u001b[39mlen\u001b[39m(val) \u001b[39m==\u001b[39m \u001b[39m0\u001b[39m:\n",
      "\u001b[0;31mValueError\u001b[0m: Could not interpret value `success` for `x`. An entry with this name does not appear in `data`."
     ]
    },
    {
     "data": {
      "image/png": "[encoded data removed]",
      "text/plain": [
       "<Figure size 2000x700 with 1 Axes>"
      ]
     },
     "metadata": {},
     "output_type": "display_data"
    }
   ],
   "source": [
    "import matplotlib.pyplot as plt\n",
    "import seaborn as sns\n",
    "\n",
    "plt.figure(figsize=(20, 7))\n",
    "\n",
    "# Survival rate by Sex\n",
    "plt.subplot(1, 2, 1)\n",
    "sns.countplot(data=inv_campaign_eval, x='success', palette='viridis')\n",
    "plt.title('Survival Rate by Sex')"
   ]
  },
  {
   "cell_type": "code",
   "execution_count": 23,
   "metadata": {},
   "outputs": [
    {
     "name": "stdout",
     "output_type": "stream",
     "text": [
      "    client_id   age            job   marital  education gender\n",
      "0   249789938  38.0       services   married  secondary      M\n",
      "1  1222646323  46.0       services  divorced    unknown      M\n",
      "2   451375919  33.0         admin.    single  secondary      F\n",
      "3   338972671  44.0  self-employed   married  secondary      F\n",
      "4  1472834688  36.0    blue-collar   married    primary      M\n"
     ]
    }
   ],
   "source": [
    "client['job'].fillna('unknown', inplace=True)\n",
    "\n",
    "# Display the updated DataFrame\n",
    "print(client.head())"
   ]
  },
  {
   "cell_type": "code",
   "execution_count": 15,
   "metadata": {},
   "outputs": [
    {
     "data": {
      "text/plain": [
       "client_id      0\n",
       "age          232\n",
       "job            0\n",
       "marital        0\n",
       "education      0\n",
       "gender         0\n",
       "dtype: int64"
      ]
     },
     "execution_count": 15,
     "metadata": {},
     "output_type": "execute_result"
    }
   ],
   "source": [
    "client.isnull().sum()"
   ]
  },
  {
   "cell_type": "code",
   "execution_count": 20,
   "metadata": {},
   "outputs": [
    {
     "data": {
      "text/plain": [
       "client_id        object\n",
       "age              object\n",
       "job              object\n",
       "marital          object\n",
       "education        object\n",
       "gender           object\n",
       "has_deposits     object\n",
       "loan             object\n",
       "has_insurance    object\n",
       "has_mortgage     object\n",
       "dtype: object"
      ]
     },
     "execution_count": 20,
     "metadata": {},
     "output_type": "execute_result"
    }
   ],
   "source": [
    "connection = sqlite3.connect('data.db')\n",
    "query = \"\"\"\n",
    "        select *\n",
    "        from client as cl\n",
    "        left join client_products as cp on cl.client_id = cp.client_id;\n",
    "        \"\"\"\n",
    "client_and_products = pd.read_sql_query(query, connection)\n",
    "connection.close\n",
    "\n",
    "client_and_products = client_and_products.T.drop_duplicates().T\n",
    "client_and_products.head()\n",
    "client_and_products.dtypes\n"
   ]
  },
  {
   "cell_type": "code",
   "execution_count": null,
   "metadata": {},
   "outputs": [],
   "source": [
    "connection = sqlite3.connect('data.db')\n",
    "query = \"\"\"\n",
    "        select *\n",
    "        from client as cl\n",
    "        left join client_products as cp on cl.client_id = cp.client_id;\n",
    "        \"\"\"\n",
    "client_and_products = pd.read_sql_query(query, connection)\n",
    "connection.close\n",
    "\n",
    "client_and_products = client_and_products.T.drop_duplicates().T\n",
    "client_and_products.head()\n",
    "client_and_products.dtypes"
   ]
  },
  {
   "cell_type": "code",
   "execution_count": 22,
   "metadata": {},
   "outputs": [
    {
     "name": "stdout",
     "output_type": "stream",
     "text": [
      "                             date      balance   client_id currency\n",
      "265876 2023-06-06 16:22:36.643827   175.445269   100070076      CZK\n",
      "175292 2023-06-06 16:22:04.265177  2559.041192   100141910      CZK\n",
      "191620 2023-06-06 16:22:09.249972    94.055761   100207570      CZK\n",
      "43680  2023-06-06 16:21:25.597087   382.755389   100488560      CZK\n",
      "262678 2023-06-06 16:22:35.410449   369.476219   100605013      CZK\n",
      "...                           ...          ...         ...      ...\n",
      "22854  2023-06-06 16:21:20.742835  1146.101785  1999463182      CZK\n",
      "130338 2023-06-06 16:21:50.781726    30.830676  1999499145      CZK\n",
      "87074  2023-06-06 16:21:36.964752   792.767525  1999715381      CZK\n",
      "89154  2023-06-06 16:21:37.470159  5077.753230  1999945413      CZK\n",
      "232674 2023-06-06 16:22:24.006798   229.440915  1999956516      CZK\n",
      "\n",
      "[11162 rows x 4 columns]\n"
     ]
    }
   ],
   "source": [
    "# Assuming df is your DataFrame with columns 'client_id' and 'timestamp'\n",
    "# Make sure 'timestamp' is in datetime format\n",
    "balances['date'] = pd.to_datetime(balances['date'])\n",
    "\n",
    "# Get the index of the last timestamp for each client_id\n",
    "last_timestamp_index = balances.groupby('client_id')['date'].idxmax()\n",
    "\n",
    "# Use the index to extract the corresponding rows from the original DataFrame\n",
    "last_timestamp_df = balances.loc[last_timestamp_index]\n",
    "\n",
    "# Display the DataFrame with the last timestamp for each client_id\n",
    "print(last_timestamp_df)"
   ]
  }
 ],
 "metadata": {
  "kernelspec": {
   "display_name": ".venv",
   "language": "python",
   "name": "python3"
  },
  "language_info": {
   "codemirror_mode": {
    "name": "ipython",
    "version": 3
   },
   "file_extension": ".py",
   "mimetype": "text/x-python",
   "name": "python",
   "nbconvert_exporter": "python",
   "pygments_lexer": "ipython3",
   "version": "3.9.6"
  }
 },
 "nbformat": 4,
 "nbformat_minor": 2
}
