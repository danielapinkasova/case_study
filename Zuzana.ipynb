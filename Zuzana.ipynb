{
 "cells": [
  {
   "cell_type": "code",
   "execution_count": 36,
   "metadata": {},
   "outputs": [],
   "source": [
    "import sqlite3\n",
    "def list_tables(database_file):\n",
    "    connection = sqlite3.connect('data.db')\n",
    "    cursor = connection.cursor()\n",
    "    cursor.execute(\"\"\"select name from sqlite_master where type = 'table';\n",
    "                    \"\"\")\n",
    "                    \n",
    "    tables = cursor.fetchall()\n",
    "    cursor.close()\n",
    "    connection.close()\n",
    "    table_names = [table[0] for table in tables]\n",
    "    return table_names"
   ]
  },
  {
   "cell_type": "code",
   "execution_count": 37,
   "metadata": {},
   "outputs": [
    {
     "data": {
      "text/plain": [
       "<function Connection.close>"
      ]
     },
     "execution_count": 37,
     "metadata": {},
     "output_type": "execute_result"
    }
   ],
   "source": [
    "import pandas as pd\n",
    "connection = sqlite3.connect('data.db')\n",
    "query = \"\"\"select *\n",
    "        from client as cl;\n",
    "        \"\"\"\n",
    "client = pd.read_sql_query(query, connection)\n",
    "connection.close"
   ]
  },
  {
   "cell_type": "code",
   "execution_count": 38,
   "metadata": {},
   "outputs": [
    {
     "data": {
      "text/plain": [
       "<function Connection.close>"
      ]
     },
     "execution_count": 38,
     "metadata": {},
     "output_type": "execute_result"
    }
   ],
   "source": [
    "import pandas as pd\n",
    "connection = sqlite3.connect('data.db')\n",
    "query = \"\"\"select *\n",
    "        from client_products as cl;\n",
    "        \"\"\"\n",
    "client_products = pd.read_sql_query(query, connection)\n",
    "connection.close"
   ]
  },
  {
   "cell_type": "code",
   "execution_count": 39,
   "metadata": {},
   "outputs": [
    {
     "data": {
      "text/plain": [
       "<function Connection.close>"
      ]
     },
     "execution_count": 39,
     "metadata": {},
     "output_type": "execute_result"
    }
   ],
   "source": [
    "import pandas as pd\n",
    "connection = sqlite3.connect('data.db')\n",
    "query = \"\"\"select *\n",
    "        from balances as cl;\n",
    "        \"\"\"\n",
    "balances = pd.read_sql_query(query, connection)\n",
    "connection.close"
   ]
  },
  {
   "cell_type": "code",
   "execution_count": 40,
   "metadata": {},
   "outputs": [
    {
     "data": {
      "text/plain": [
       "<function Connection.close>"
      ]
     },
     "execution_count": 40,
     "metadata": {},
     "output_type": "execute_result"
    }
   ],
   "source": [
    "import pandas as pd\n",
    "connection = sqlite3.connect('data.db')\n",
    "query = \"\"\"select *\n",
    "        from inv_campaign_eval as cl;\n",
    "        \"\"\"\n",
    "inv_campaign_eval = pd.read_sql_query(query, connection)\n",
    "connection.close"
   ]
  },
  {
   "cell_type": "code",
   "execution_count": 41,
   "metadata": {},
   "outputs": [
    {
     "data": {
      "text/plain": [
       "<function Connection.close>"
      ]
     },
     "execution_count": 41,
     "metadata": {},
     "output_type": "execute_result"
    }
   ],
   "source": [
    "connection = sqlite3.connect('data.db')\n",
    "query = \"\"\"\n",
    "        select *\n",
    "        from client as cl\n",
    "        left join client_products as cp on cl.client_id = cp.client_id\n",
    "        --left join balances as ba on cl.client_id = ba.client_id\n",
    "        left join inv_campaign_eval as camp on cl.client_id = camp.client_id;\n",
    "        \"\"\"\n",
    "clients_merged = pd.read_sql_query(query, connection)\n",
    "connection.close"
   ]
  },
  {
   "cell_type": "code",
   "execution_count": 42,
   "metadata": {},
   "outputs": [],
   "source": [
    "my_database_file_path = \"/content/data.db\""
   ]
  },
  {
   "cell_type": "code",
   "execution_count": 43,
   "metadata": {},
   "outputs": [
    {
     "name": "stdout",
     "output_type": "stream",
     "text": [
      "    client_id   age            job   marital  education gender\n",
      "0   249789938  38.0       services   married  secondary      M\n",
      "1  1222646323  46.0       services  divorced    unknown      M\n",
      "2   451375919  33.0         admin.    single  secondary      F\n",
      "3   338972671  44.0  self-employed   married  secondary      F\n",
      "4  1472834688  36.0    blue-collar   married    primary      M\n",
      "5  1068680340  63.0         admin.   married  secondary      F\n",
      "6   711558356  38.0  self-employed    single   tertiary      F\n",
      "7   422084751  30.0     technician    single  secondary      M\n",
      "8   123316323  36.0    blue-collar  divorced  secondary      F\n",
      "9  1504633819  38.0     management   married   tertiary      M\n",
      "    client_id has_deposits loan has_insurance has_mortgage\n",
      "0   249789938          yes   no             n           no\n",
      "1  1222646323           no   no             n           no\n",
      "2   451375919           no   no             n          yes\n",
      "3   338972671           no   no             y          yes\n",
      "4  1472834688          yes   no             n          yes\n",
      "5  1068680340          yes   no             n          yes\n",
      "6   711558356          yes   no             n          yes\n",
      "7   422084751          yes   no             n           no\n",
      "8   123316323          yes   no             n           no\n",
      "9  1504633819           no  yes             n          yes\n",
      "                         date      balance  client_id currency\n",
      "0  2023-06-06 16:21:15.291346  2680.467773  249789938      CZK\n",
      "1  2023-05-23 16:21:15.291346  2654.055419  249789938      CZK\n",
      "2  2023-05-09 16:21:15.291346  2620.835872  249789938      CZK\n",
      "3  2023-04-25 16:21:15.291346  2720.315925  249789938      CZK\n",
      "4  2023-04-11 16:21:15.291346  2687.601982  249789938      CZK\n",
      "5  2023-03-28 16:21:15.291346  2681.192901  249789938      CZK\n",
      "6  2023-03-14 16:21:15.291346  2669.402467  249789938      CZK\n",
      "7  2023-02-28 16:21:15.291346  2685.846081  249789938      CZK\n",
      "8  2023-02-14 16:21:15.291346  2709.095707  249789938      CZK\n",
      "9  2023-01-31 16:21:15.291346  2664.606049  249789938      CZK\n",
      "    client_id poutcome\n",
      "0   249789938  success\n",
      "1  1504633819  failure\n",
      "2  1952195738  success\n",
      "3   989726384  success\n",
      "4  1971878545  failure\n",
      "5  1823731216  failure\n",
      "6  1129179996  failure\n",
      "7   178705988  success\n",
      "8  1744740913  success\n",
      "9  1810967844  success\n",
      "    client_id   age            job   marital  education gender   client_id  \\\n",
      "0   249789938  38.0       services   married  secondary      M   249789938   \n",
      "1  1222646323  46.0       services  divorced    unknown      M  1222646323   \n",
      "2   451375919  33.0         admin.    single  secondary      F   451375919   \n",
      "3   338972671  44.0  self-employed   married  secondary      F   338972671   \n",
      "4  1472834688  36.0    blue-collar   married    primary      M  1472834688   \n",
      "5  1068680340  63.0         admin.   married  secondary      F  1068680340   \n",
      "6   711558356  38.0  self-employed    single   tertiary      F   711558356   \n",
      "7   422084751  30.0     technician    single  secondary      M   422084751   \n",
      "8   123316323  36.0    blue-collar  divorced  secondary      F   123316323   \n",
      "9  1504633819  38.0     management   married   tertiary      M  1504633819   \n",
      "\n",
      "  has_deposits loan has_insurance has_mortgage     client_id poutcome  \n",
      "0          yes   no             n           no  2.497899e+08  success  \n",
      "1           no   no             n           no           NaN     None  \n",
      "2           no   no             n          yes           NaN     None  \n",
      "3           no   no             y          yes           NaN     None  \n",
      "4          yes   no             n          yes           NaN     None  \n",
      "5          yes   no             n          yes           NaN     None  \n",
      "6          yes   no             n          yes           NaN     None  \n",
      "7          yes   no             n           no           NaN     None  \n",
      "8          yes   no             n           no           NaN     None  \n",
      "9           no  yes             n          yes  1.504634e+09  failure  \n"
     ]
    }
   ],
   "source": [
    "print(client.head(10))\n",
    "print(client_products.head(10))\n",
    "print(balances.head(10))\n",
    "print(inv_campaign_eval.head(10))\n",
    "print(clients_merged.head(10))"
   ]
  },
  {
   "cell_type": "code",
   "execution_count": 44,
   "metadata": {},
   "outputs": [
    {
     "name": "stdout",
     "output_type": "stream",
     "text": [
      "    client_id   age            job   marital  education gender   client_id  \\\n",
      "0   249789938  38.0       services   married  secondary      M   249789938   \n",
      "1  1222646323  46.0       services  divorced    unknown      M  1222646323   \n",
      "2   451375919  33.0         admin.    single  secondary      F   451375919   \n",
      "3   338972671  44.0  self-employed   married  secondary      F   338972671   \n",
      "4  1472834688  36.0    blue-collar   married    primary      M  1472834688   \n",
      "\n",
      "  has_deposits loan has_insurance has_mortgage    client_id poutcome  success  \n",
      "0          yes   no             n           no  249789938.0  success        1  \n",
      "1           no   no             n           no          NaN     None        1  \n",
      "2           no   no             n          yes          NaN     None        1  \n",
      "3           no   no             y          yes          NaN     None        1  \n",
      "4          yes   no             n          yes          NaN     None        1  \n"
     ]
    }
   ],
   "source": [
    "# Corrected filter\n",
    "filter_condition = (clients_merged[\"poutcome\"] == 'failure')\n",
    "\n",
    "# Add a new column \"has_family\" and initialize it to 0\n",
    "clients_merged[\"success\"] = 1\n",
    "\n",
    "# Set \"has_family\" to 1 where the filter condition is met\n",
    "clients_merged.loc[filter_condition, \"success\"] = 0\n",
    "\n",
    "# Display the DataFrame\n",
    "print(clients_merged.head())"
   ]
  },
  {
   "cell_type": "code",
   "execution_count": 45,
   "metadata": {},
   "outputs": [
    {
     "data": {
      "text/plain": [
       "client_id           0\n",
       "age               232\n",
       "job               438\n",
       "marital             0\n",
       "education           0\n",
       "gender              0\n",
       "client_id           0\n",
       "has_deposits        0\n",
       "loan                0\n",
       "has_insurance       0\n",
       "has_mortgage        0\n",
       "client_id        8863\n",
       "poutcome         8863\n",
       "success             0\n",
       "dtype: int64"
      ]
     },
     "execution_count": 45,
     "metadata": {},
     "output_type": "execute_result"
    }
   ],
   "source": [
    "clients_merged.isnull().sum()"
   ]
  },
  {
   "cell_type": "code",
   "execution_count": 46,
   "metadata": {},
   "outputs": [
    {
     "data": {
      "text/plain": [
       "client_id          int64\n",
       "age              float64\n",
       "job               object\n",
       "marital           object\n",
       "education         object\n",
       "gender            object\n",
       "client_id          int64\n",
       "has_deposits      object\n",
       "loan              object\n",
       "has_insurance     object\n",
       "has_mortgage      object\n",
       "client_id        float64\n",
       "poutcome          object\n",
       "success            int64\n",
       "dtype: object"
      ]
     },
     "execution_count": 46,
     "metadata": {},
     "output_type": "execute_result"
    }
   ],
   "source": [
    "clients_merged.dtypes"
   ]
  },
  {
   "cell_type": "code",
   "execution_count": 47,
   "metadata": {},
   "outputs": [
    {
     "name": "stdout",
     "output_type": "stream",
     "text": [
      "    client_id   age            job   marital  education gender\n",
      "0   249789938  38.0       services   married  secondary      M\n",
      "1  1222646323  46.0       services  divorced    unknown      M\n",
      "2   451375919  33.0         admin.    single  secondary      F\n",
      "3   338972671  44.0  self-employed   married  secondary      F\n",
      "4  1472834688  36.0    blue-collar   married    primary      M\n"
     ]
    }
   ],
   "source": [
    "clients_merged['job'].fillna('unknown', inplace=True)\n",
    "\n",
    "# Display the updated DataFrame\n",
    "print(client.head())"
   ]
  },
  {
   "cell_type": "code",
   "execution_count": 28,
   "metadata": {},
   "outputs": [
    {
     "data": {
      "text/plain": [
       "client_id      0\n",
       "age          232\n",
       "job          438\n",
       "marital        0\n",
       "education      0\n",
       "gender         0\n",
       "dtype: int64"
      ]
     },
     "execution_count": 28,
     "metadata": {},
     "output_type": "execute_result"
    }
   ],
   "source": [
    "client.isnull().sum()"
   ]
  },
  {
   "cell_type": "code",
   "execution_count": 29,
   "metadata": {},
   "outputs": [
    {
     "data": {
      "text/plain": [
       "client_id        object\n",
       "age              object\n",
       "job              object\n",
       "marital          object\n",
       "education        object\n",
       "gender           object\n",
       "has_deposits     object\n",
       "loan             object\n",
       "has_insurance    object\n",
       "has_mortgage     object\n",
       "dtype: object"
      ]
     },
     "execution_count": 29,
     "metadata": {},
     "output_type": "execute_result"
    }
   ],
   "source": [
    "connection = sqlite3.connect('data.db')\n",
    "query = \"\"\"\n",
    "        select *\n",
    "        from client as cl\n",
    "        left join client_products as cp on cl.client_id = cp.client_id;\n",
    "        \"\"\"\n",
    "client_and_products = pd.read_sql_query(query, connection)\n",
    "connection.close\n",
    "\n",
    "client_and_products = client_and_products.T.drop_duplicates().T\n",
    "client_and_products.head()\n",
    "client_and_products.dtypes\n"
   ]
  },
  {
   "cell_type": "code",
   "execution_count": 35,
   "metadata": {},
   "outputs": [
    {
     "data": {
      "text/plain": [
       "client_id        object\n",
       "age              object\n",
       "job              object\n",
       "marital          object\n",
       "education        object\n",
       "gender           object\n",
       "has_deposits     object\n",
       "loan             object\n",
       "has_insurance    object\n",
       "has_mortgage     object\n",
       "dtype: object"
      ]
     },
     "execution_count": 35,
     "metadata": {},
     "output_type": "execute_result"
    }
   ],
   "source": [
    "connection = sqlite3.connect('data.db')\n",
    "query = \"\"\"\n",
    "        select *\n",
    "        from client as cl\n",
    "        left join client_products as cp on cl.client_id = cp.client_id;\n",
    "        \"\"\"\n",
    "client_and_products = pd.read_sql_query(query, connection)\n",
    "connection.close\n",
    "\n",
    "client_and_products = client_and_products.T.drop_duplicates().T\n",
    "client_and_products.head()\n",
    "client_and_products.dtypes"
   ]
  },
  {
   "cell_type": "code",
   "execution_count": 55,
   "metadata": {},
   "outputs": [
    {
     "name": "stdout",
     "output_type": "stream",
     "text": [
      "             date      balance   client_id currency\n",
      "265876 2023-06-06   175.445269   100070076      CZK\n",
      "175292 2023-06-06  2559.041192   100141910      CZK\n",
      "191620 2023-06-06    94.055761   100207570      CZK\n",
      "43680  2023-06-06   382.755389   100488560      CZK\n",
      "262678 2023-06-06   369.476219   100605013      CZK\n",
      "...           ...          ...         ...      ...\n",
      "22854  2023-06-06  1146.101785  1999463182      CZK\n",
      "130338 2023-06-06    30.830676  1999499145      CZK\n",
      "87074  2023-06-06   792.767525  1999715381      CZK\n",
      "89154  2023-06-06  5077.753230  1999945413      CZK\n",
      "232674 2023-06-06   229.440915  1999956516      CZK\n",
      "\n",
      "[11162 rows x 4 columns]\n",
      "              date      balance  client_id currency\n",
      "0       2023-06-06  2680.467773  249789938      CZK\n",
      "1       2023-05-23  2654.055419  249789938      CZK\n",
      "2       2023-05-09  2620.835872  249789938      CZK\n",
      "3       2023-04-25  2720.315925  249789938      CZK\n",
      "4       2023-04-11  2687.601982  249789938      CZK\n",
      "...            ...          ...        ...      ...\n",
      "290207  2022-08-16   145.454161  705801685      CZK\n",
      "290208  2022-08-02    -5.497494  705801685      CZK\n",
      "290209  2022-07-19   -45.891607  705801685      CZK\n",
      "290210  2022-07-05    19.473946  705801685      CZK\n",
      "290211  2022-06-21   163.032053  705801685      CZK\n",
      "\n",
      "[290212 rows x 4 columns]\n",
      "          date  frequency\n",
      "0   2022-06-21      11162\n",
      "1   2022-07-05      11162\n",
      "2   2022-07-19      11162\n",
      "3   2022-08-02      11162\n",
      "4   2022-08-16      11162\n",
      "5   2022-08-30      11162\n",
      "6   2022-09-13      11162\n",
      "7   2022-09-27      11162\n",
      "8   2022-10-11      11162\n",
      "9   2022-10-25      11162\n",
      "10  2022-11-08      11162\n",
      "11  2022-11-22      11162\n",
      "12  2022-12-06      11162\n",
      "13  2022-12-20      11162\n",
      "14  2023-01-03      11162\n",
      "15  2023-01-17      11162\n",
      "16  2023-01-31      11162\n",
      "17  2023-02-14      11162\n",
      "18  2023-02-28      11162\n",
      "19  2023-03-14      11162\n",
      "20  2023-03-28      11162\n",
      "21  2023-04-11      11162\n",
      "22  2023-04-25      11162\n",
      "23  2023-05-09      11162\n",
      "24  2023-05-23      11162\n",
      "25  2023-06-06      11162\n"
     ]
    }
   ],
   "source": [
    "# Assuming df is your DataFrame with columns 'client_id' and 'timestamp'\n",
    "# Make sure 'timestamp' is in datetime format\n",
    "balances['date'] = pd.to_datetime(balances['date'])\n",
    "\n",
    "# Get the index of the last timestamp for each client_id\n",
    "last_timestamp_index = balances.groupby('client_id')['date'].idxmax()\n",
    "\n",
    "# Use the index to extract the corresponding rows from the original DataFrame\n",
    "last_timestamp_df = balances.loc[last_timestamp_index]\n",
    "\n",
    "# Display the DataFrame with the last timestamp for each client_id\n",
    "print(last_timestamp_df)\n",
    "\n",
    "\n",
    "\n",
    "# Convert 'datetime_column' to datetime format\n",
    "balances['date'] = pd.to_datetime(balances['date'])\n",
    "\n",
    "# Extract just the date from the datetime column\n",
    "balances['date'] = balances['date'].dt.date\n",
    "\n",
    "print(balances)\n",
    "\n",
    "balances = pd.DataFrame(balances)\n",
    "\n",
    "# Convert 'datetime_column' to datetime format\n",
    "balances['date'] = pd.to_datetime(balances['date'])\n",
    "\n",
    "date_frequency = balances.groupby(balances['date'].dt.date).size().reset_index(name='frequency')\n",
    "\n",
    "# Display the resulting DataFrame with date frequencies\n",
    "print(date_frequency)\n",
    "\n"
   ]
  },
  {
   "cell_type": "code",
   "execution_count": 56,
   "metadata": {},
   "outputs": [
    {
     "name": "stdout",
     "output_type": "stream",
     "text": [
      "          date  frequency\n",
      "0   2022-06-21      11162\n",
      "1   2022-07-05      11162\n",
      "2   2022-07-19      11162\n",
      "3   2022-08-02      11162\n",
      "4   2022-08-16      11162\n",
      "5   2022-08-30      11162\n",
      "6   2022-09-13      11162\n",
      "7   2022-09-27      11162\n",
      "8   2022-10-11      11162\n",
      "9   2022-10-25      11162\n",
      "10  2022-11-08      11162\n",
      "11  2022-11-22      11162\n",
      "12  2022-12-06      11162\n",
      "13  2022-12-20      11162\n",
      "14  2023-01-03      11162\n",
      "15  2023-01-17      11162\n",
      "16  2023-01-31      11162\n",
      "17  2023-02-14      11162\n",
      "18  2023-02-28      11162\n",
      "19  2023-03-14      11162\n",
      "20  2023-03-28      11162\n",
      "21  2023-04-11      11162\n",
      "22  2023-04-25      11162\n",
      "23  2023-05-09      11162\n",
      "24  2023-05-23      11162\n",
      "25  2023-06-06      11162\n"
     ]
    }
   ],
   "source": [
    "print(date_frequency)"
   ]
  },
  {
   "cell_type": "code",
   "execution_count": 57,
   "metadata": {},
   "outputs": [
    {
     "name": "stdout",
     "output_type": "stream",
     "text": [
      "        client_id      balance\n",
      "0       100070076   203.907928\n",
      "1       100141910  2544.965438\n",
      "2       100207570   -15.679495\n",
      "3       100488560   381.488613\n",
      "4       100605013   420.351449\n",
      "...           ...          ...\n",
      "11157  1999463182  1268.089349\n",
      "11158  1999499145    -4.751058\n",
      "11159  1999715381   676.988885\n",
      "11160  1999945413  5047.496305\n",
      "11161  1999956516   231.982319\n",
      "\n",
      "[11162 rows x 2 columns]\n"
     ]
    }
   ],
   "source": [
    "balances_mean = pd.DataFrame(balances)\n",
    "\n",
    "# Convert 'date' to datetime format\n",
    "balances['date'] = pd.to_datetime(balances['date'])\n",
    "\n",
    "# Group by 'client_id' and calculate the mean balance for each client\n",
    "mean_balance_by_client = balances.groupby('client_id')['balance'].mean().reset_index()\n",
    "\n",
    "# Display the resulting DataFrame with mean balances\n",
    "print(mean_balance_by_client)"
   ]
  },
  {
   "cell_type": "code",
   "execution_count": null,
   "metadata": {},
   "outputs": [],
   "source": []
  }
 ],
 "metadata": {
  "kernelspec": {
   "display_name": ".venv",
   "language": "python",
   "name": "python3"
  },
  "language_info": {
   "codemirror_mode": {
    "name": "ipython",
    "version": 3
   },
   "file_extension": ".py",
   "mimetype": "text/x-python",
   "name": "python",
   "nbconvert_exporter": "python",
   "pygments_lexer": "ipython3",
   "version": "3.9.6"
  }
 },
 "nbformat": 4,
 "nbformat_minor": 2
}
