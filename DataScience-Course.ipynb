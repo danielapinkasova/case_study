{
 "cells": [
  {
   "cell_type": "code",
   "execution_count": 6,
   "metadata": {},
   "outputs": [],
   "source": [
    "import sqlite3\n",
    "def list_tables(database_file):\n",
    "    connection = sqlite3.connect('data.db')\n",
    "    cursor = connection.cursor()\n",
    "    cursor.execute(\"\"\"select name from sqlite_master where type = 'table';\n",
    "                    \"\"\")\n",
    "                    \n",
    "    tables = cursor.fetchall()\n",
    "    cursor.close()\n",
    "    connection.close()\n",
    "    table_names = [table[0] for table in tables]\n",
    "    return table_names\n",
    "\n",
    "\n"
   ]
  },
  {
   "cell_type": "code",
   "execution_count": 15,
   "metadata": {},
   "outputs": [
    {
     "data": {
      "text/plain": [
       "<function Connection.close()>"
      ]
     },
     "execution_count": 15,
     "metadata": {},
     "output_type": "execute_result"
    }
   ],
   "source": [
    "import pandas as pd\n",
    "connection = sqlite3.connect('data.db')\n",
    "query = \"\"\"select *\n",
    "        from client as cl;\n",
    "        \"\"\"\n",
    "client = pd.read_sql_query(query, connection)\n",
    "connection.close"
   ]
  },
  {
   "cell_type": "code",
   "execution_count": 16,
   "metadata": {},
   "outputs": [
    {
     "data": {
      "text/plain": [
       "<function Connection.close()>"
      ]
     },
     "execution_count": 16,
     "metadata": {},
     "output_type": "execute_result"
    }
   ],
   "source": [
    "import pandas as pd\n",
    "connection = sqlite3.connect('data.db')\n",
    "query = \"\"\"select *\n",
    "        from client_products as cl;\n",
    "        \"\"\"\n",
    "client_products = pd.read_sql_query(query, connection)\n",
    "connection.close"
   ]
  },
  {
   "cell_type": "code",
   "execution_count": 17,
   "metadata": {},
   "outputs": [
    {
     "data": {
      "text/plain": [
       "<function Connection.close()>"
      ]
     },
     "execution_count": 17,
     "metadata": {},
     "output_type": "execute_result"
    }
   ],
   "source": [
    "import pandas as pd\n",
    "connection = sqlite3.connect('data.db')\n",
    "query = \"\"\"select *\n",
    "        from balances as cl;\n",
    "        \"\"\"\n",
    "balances = pd.read_sql_query(query, connection)\n",
    "connection.close"
   ]
  },
  {
   "cell_type": "code",
   "execution_count": 18,
   "metadata": {},
   "outputs": [
    {
     "data": {
      "text/plain": [
       "<function Connection.close()>"
      ]
     },
     "execution_count": 18,
     "metadata": {},
     "output_type": "execute_result"
    }
   ],
   "source": [
    "import pandas as pd\n",
    "connection = sqlite3.connect('data.db')\n",
    "query = \"\"\"select *\n",
    "        from inv_campaign_eval as cl;\n",
    "        \"\"\"\n",
    "inv_campaign_eval = pd.read_sql_query(query, connection)\n",
    "connection.close"
   ]
  },
  {
   "cell_type": "code",
   "execution_count": 19,
   "metadata": {},
   "outputs": [],
   "source": [
    "my_database_file_path = \"/content/data.db\""
   ]
  },
  {
   "cell_type": "code",
   "execution_count": 20,
   "metadata": {},
   "outputs": [
    {
     "name": "stdout",
     "output_type": "stream",
     "text": [
      "    client_id   age            job   marital  education gender\n",
      "0   249789938  38.0       services   married  secondary      M\n",
      "1  1222646323  46.0       services  divorced    unknown      M\n",
      "2   451375919  33.0         admin.    single  secondary      F\n",
      "3   338972671  44.0  self-employed   married  secondary      F\n",
      "4  1472834688  36.0    blue-collar   married    primary      M\n",
      "5  1068680340  63.0         admin.   married  secondary      F\n",
      "6   711558356  38.0  self-employed    single   tertiary      F\n",
      "7   422084751  30.0     technician    single  secondary      M\n",
      "8   123316323  36.0    blue-collar  divorced  secondary      F\n",
      "9  1504633819  38.0     management   married   tertiary      M\n",
      "    client_id has_deposits loan has_insurance has_mortgage\n",
      "0   249789938          yes   no             n           no\n",
      "1  1222646323           no   no             n           no\n",
      "2   451375919           no   no             n          yes\n",
      "3   338972671           no   no             y          yes\n",
      "4  1472834688          yes   no             n          yes\n",
      "5  1068680340          yes   no             n          yes\n",
      "6   711558356          yes   no             n          yes\n",
      "7   422084751          yes   no             n           no\n",
      "8   123316323          yes   no             n           no\n",
      "9  1504633819           no  yes             n          yes\n",
      "                         date      balance  client_id currency\n",
      "0  2023-06-06 16:21:15.291346  2680.467773  249789938      CZK\n",
      "1  2023-05-23 16:21:15.291346  2654.055419  249789938      CZK\n",
      "2  2023-05-09 16:21:15.291346  2620.835872  249789938      CZK\n",
      "3  2023-04-25 16:21:15.291346  2720.315925  249789938      CZK\n",
      "4  2023-04-11 16:21:15.291346  2687.601982  249789938      CZK\n",
      "5  2023-03-28 16:21:15.291346  2681.192901  249789938      CZK\n",
      "6  2023-03-14 16:21:15.291346  2669.402467  249789938      CZK\n",
      "7  2023-02-28 16:21:15.291346  2685.846081  249789938      CZK\n",
      "8  2023-02-14 16:21:15.291346  2709.095707  249789938      CZK\n",
      "9  2023-01-31 16:21:15.291346  2664.606049  249789938      CZK\n",
      "    client_id poutcome\n",
      "0   249789938  success\n",
      "1  1504633819  failure\n",
      "2  1952195738  success\n",
      "3   989726384  success\n",
      "4  1971878545  failure\n",
      "5  1823731216  failure\n",
      "6  1129179996  failure\n",
      "7   178705988  success\n",
      "8  1744740913  success\n",
      "9  1810967844  success\n"
     ]
    }
   ],
   "source": [
    "\n",
    "print(client.head(10))\n",
    "print(client_products.head(10))\n",
    "print(balances.head(10))\n",
    "print(inv_campaign_eval.head(10))"
   ]
  }
 ],
 "metadata": {
  "kernelspec": {
   "display_name": ".venv",
   "language": "python",
   "name": "python3"
  },
  "language_info": {
   "codemirror_mode": {
    "name": "ipython",
    "version": 3
   },
   "file_extension": ".py",
   "mimetype": "text/x-python",
   "name": "python",
   "nbconvert_exporter": "python",
   "pygments_lexer": "ipython3",
   "version": "3.10.8"
  }
 },
 "nbformat": 4,
 "nbformat_minor": 2
}
